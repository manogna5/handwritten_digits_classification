{
  "nbformat": 4,
  "nbformat_minor": 0,
  "metadata": {
    "colab": {
      "name": "classifyingdigits.ipynb",
      "provenance": [],
      "authorship_tag": "ABX9TyPkq8flF63kl54nqanaedCO",
      "include_colab_link": true
    },
    "kernelspec": {
      "name": "python3",
      "display_name": "Python 3"
    }
  },
  "cells": [
    {
      "cell_type": "markdown",
      "metadata": {
        "id": "view-in-github",
        "colab_type": "text"
      },
      "source": [
        "<a href=\"https://colab.research.google.com/github/manogna5/handwritten_digits_classification/blob/master/classifyingdigits.ipynb\" target=\"_parent\"><img src=\"https://colab.research.google.com/assets/colab-badge.svg\" alt=\"Open In Colab\"/></a>"
      ]
    },
    {
      "cell_type": "code",
      "metadata": {
        "id": "RkQx8PyrzWJ8",
        "colab_type": "code",
        "colab": {}
      },
      "source": [
        "import numpy as np\n",
        "import torch\n",
        "import helper\n",
        "import matplotlib.pyplot as plt\n",
        "import torch.nn.functional as F\n",
        "from torch import nn"
      ],
      "execution_count": 0,
      "outputs": []
    },
    {
      "cell_type": "code",
      "metadata": {
        "id": "NxHBEi_nzi-g",
        "colab_type": "code",
        "colab": {}
      },
      "source": [
        "from torchvision import datasets,transforms"
      ],
      "execution_count": 0,
      "outputs": []
    },
    {
      "cell_type": "code",
      "metadata": {
        "id": "MVQhLwJqzmGB",
        "colab_type": "code",
        "colab": {}
      },
      "source": [
        "transform=transforms.Compose([transforms.ToTensor(),transforms.Normalize((0.5,),(0.5,))])\n",
        "trainset=datasets.MNIST('MNIST_data/',download=True,train=True,transform=transform)\n",
        "trainloader=torch.utils.data.DataLoader(trainset,batch_size=64,shuffle=True)"
      ],
      "execution_count": 0,
      "outputs": []
    },
    {
      "cell_type": "code",
      "metadata": {
        "id": "H1PZ2dj9zt64",
        "colab_type": "code",
        "outputId": "b5280908-9380-4f32-d299-eddb301407d6",
        "colab": {
          "base_uri": "https://localhost:8080/",
          "height": 34
        }
      },
      "source": [
        "model=nn.Sequential(nn.Linear(784,128),\n",
        "                    nn.ReLU(),\n",
        "                    nn.Linear(128,64),\n",
        "                    nn.ReLU(),\n",
        "                    nn.Linear(64,10),\n",
        "                    nn.LogSoftmax(dim=1))\n",
        "criterion=nn.NLLLoss()\n",
        "dataiter=iter(trainloader)\n",
        "images,labels=dataiter.next()\n",
        "images=images.view(images.shape[0],-1)\n",
        "logits=model(images)\n",
        "loss=criterion(logits,labels)\n",
        "print(loss)"
      ],
      "execution_count": 5,
      "outputs": [
        {
          "output_type": "stream",
          "text": [
            "tensor(2.3079, grad_fn=<NllLossBackward>)\n"
          ],
          "name": "stdout"
        }
      ]
    },
    {
      "cell_type": "code",
      "metadata": {
        "id": "ETOtj7zU4FBO",
        "colab_type": "code",
        "outputId": "7731e609-b3f1-443d-bb45-289773cdc753",
        "colab": {
          "base_uri": "https://localhost:8080/",
          "height": 51
        }
      },
      "source": [
        "x=torch.randn(2,2,requires_grad=True)\n",
        "print(x)"
      ],
      "execution_count": 6,
      "outputs": [
        {
          "output_type": "stream",
          "text": [
            "tensor([[ 1.0354, -0.0094],\n",
            "        [ 0.2074, -0.0341]], requires_grad=True)\n"
          ],
          "name": "stdout"
        }
      ]
    },
    {
      "cell_type": "code",
      "metadata": {
        "id": "jnSgLJwm4OlT",
        "colab_type": "code",
        "outputId": "b01b74fd-7724-4e7d-866e-3ab73767dff0",
        "colab": {
          "base_uri": "https://localhost:8080/",
          "height": 51
        }
      },
      "source": [
        "y=x**2\n",
        "print(y)\n"
      ],
      "execution_count": 7,
      "outputs": [
        {
          "output_type": "stream",
          "text": [
            "tensor([[1.0720e+00, 8.7821e-05],\n",
            "        [4.3016e-02, 1.1632e-03]], grad_fn=<PowBackward0>)\n"
          ],
          "name": "stdout"
        }
      ]
    },
    {
      "cell_type": "code",
      "metadata": {
        "id": "Seehm2H84SmS",
        "colab_type": "code",
        "outputId": "980dedad-cfef-4564-e726-36802c6f5002",
        "colab": {
          "base_uri": "https://localhost:8080/",
          "height": 34
        }
      },
      "source": [
        "print(y.grad_fn)"
      ],
      "execution_count": 8,
      "outputs": [
        {
          "output_type": "stream",
          "text": [
            "<PowBackward0 object at 0x7f1ea0641f60>\n"
          ],
          "name": "stdout"
        }
      ]
    },
    {
      "cell_type": "code",
      "metadata": {
        "id": "QGPees3y4Ypu",
        "colab_type": "code",
        "outputId": "3d1e3da5-90d3-47cd-ba85-d066863202e8",
        "colab": {
          "base_uri": "https://localhost:8080/",
          "height": 34
        }
      },
      "source": [
        "z=y.mean()\n",
        "print(z)"
      ],
      "execution_count": 9,
      "outputs": [
        {
          "output_type": "stream",
          "text": [
            "tensor(0.2791, grad_fn=<MeanBackward0>)\n"
          ],
          "name": "stdout"
        }
      ]
    },
    {
      "cell_type": "code",
      "metadata": {
        "id": "9e-oHZK24dKX",
        "colab_type": "code",
        "outputId": "d69ea71d-347d-4d19-cab5-ccf74d799c3f",
        "colab": {
          "base_uri": "https://localhost:8080/",
          "height": 34
        }
      },
      "source": [
        "print(x.grad)"
      ],
      "execution_count": 10,
      "outputs": [
        {
          "output_type": "stream",
          "text": [
            "None\n"
          ],
          "name": "stdout"
        }
      ]
    },
    {
      "cell_type": "code",
      "metadata": {
        "id": "FmYfSvFi4mKx",
        "colab_type": "code",
        "outputId": "a67106e9-0dd0-4218-fbd0-4f9922e02fcc",
        "colab": {
          "base_uri": "https://localhost:8080/",
          "height": 85
        }
      },
      "source": [
        "z.backward()\n",
        "print(x.grad)\n",
        "print(x/2)"
      ],
      "execution_count": 11,
      "outputs": [
        {
          "output_type": "stream",
          "text": [
            "tensor([[ 0.5177, -0.0047],\n",
            "        [ 0.1037, -0.0171]])\n",
            "tensor([[ 0.5177, -0.0047],\n",
            "        [ 0.1037, -0.0171]], grad_fn=<DivBackward0>)\n"
          ],
          "name": "stdout"
        }
      ]
    },
    {
      "cell_type": "code",
      "metadata": {
        "id": "r3YhACJi4xHH",
        "colab_type": "code",
        "outputId": "2944d269-51d9-4f6c-d731-aa640000b8c9",
        "colab": {
          "base_uri": "https://localhost:8080/",
          "height": 34
        }
      },
      "source": [
        "model=nn.Sequential(nn.Linear(784,128),\n",
        "                    nn.ReLU(),\n",
        "                    nn.Linear(128,64),\n",
        "                    nn.ReLU(),\n",
        "                    nn.Linear(64,10),\n",
        "                    nn.LogSoftmax(dim=1))\n",
        "criterion=nn.NLLLoss()\n",
        "dataiter=iter(trainloader)\n",
        "images,labels=dataiter.next()\n",
        "images=images.view(images.shape[0],-1)\n",
        "logits=model(images)\n",
        "loss=criterion(logits,labels)\n",
        "print(loss)"
      ],
      "execution_count": 12,
      "outputs": [
        {
          "output_type": "stream",
          "text": [
            "tensor(2.3154, grad_fn=<NllLossBackward>)\n"
          ],
          "name": "stdout"
        }
      ]
    },
    {
      "cell_type": "code",
      "metadata": {
        "id": "H0nUC5TVkBSR",
        "colab_type": "code",
        "outputId": "e3266fe3-b5c0-4b44-a46b-e70d5af92e83",
        "colab": {
          "base_uri": "https://localhost:8080/",
          "height": 289
        }
      },
      "source": [
        "print(' before Backward pass:\\n',model[0].weight.grad)\n",
        "loss.backward()\n",
        "print('after Backward pass:\\n',model[0].weight.grad)\n"
      ],
      "execution_count": 13,
      "outputs": [
        {
          "output_type": "stream",
          "text": [
            " before Backward pass:\n",
            " None\n",
            "after Backward pass:\n",
            " tensor([[ 0.0000e+00,  0.0000e+00,  0.0000e+00,  ...,  0.0000e+00,\n",
            "          0.0000e+00,  0.0000e+00],\n",
            "        [ 7.1023e-05,  7.1023e-05,  7.1023e-05,  ...,  7.1023e-05,\n",
            "          7.1023e-05,  7.1023e-05],\n",
            "        [ 4.7747e-04,  4.7747e-04,  4.7747e-04,  ...,  4.7747e-04,\n",
            "          4.7747e-04,  4.7747e-04],\n",
            "        ...,\n",
            "        [ 0.0000e+00,  0.0000e+00,  0.0000e+00,  ...,  0.0000e+00,\n",
            "          0.0000e+00,  0.0000e+00],\n",
            "        [ 0.0000e+00,  0.0000e+00,  0.0000e+00,  ...,  0.0000e+00,\n",
            "          0.0000e+00,  0.0000e+00],\n",
            "        [-1.1718e-03, -1.1718e-03, -1.1718e-03,  ..., -1.1718e-03,\n",
            "         -1.1718e-03, -1.1718e-03]])\n"
          ],
          "name": "stdout"
        }
      ]
    },
    {
      "cell_type": "code",
      "metadata": {
        "id": "vW_quXYVlL0B",
        "colab_type": "code",
        "colab": {}
      },
      "source": [
        "from torch import optim\n",
        "optimizer = optim.SGD(model.parameters(),lr=0.01)"
      ],
      "execution_count": 0,
      "outputs": []
    },
    {
      "cell_type": "code",
      "metadata": {
        "id": "2CRtc0oNl2E4",
        "colab_type": "code",
        "outputId": "b2b179f5-0c00-4259-cf6f-3d271ee13249",
        "colab": {
          "base_uri": "https://localhost:8080/",
          "height": 289
        }
      },
      "source": [
        "print('Initial weights=',model[0].weight)\n",
        "dataiter=iter(trainloader)\n",
        "images,labels=dataiter.next()\n",
        "images.resize_(64,784)\n",
        "optimizer.zero_grad()\n",
        "output=model.forward(images)\n",
        "loss=criterion(output,labels)\n",
        "loss.backward()\n",
        "print('Gradient',model[0].weight.grad)\n"
      ],
      "execution_count": 15,
      "outputs": [
        {
          "output_type": "stream",
          "text": [
            "Initial weights= Parameter containing:\n",
            "tensor([[-0.0225,  0.0060,  0.0191,  ...,  0.0247, -0.0125, -0.0049],\n",
            "        [-0.0071,  0.0036, -0.0181,  ..., -0.0209,  0.0054,  0.0334],\n",
            "        [-0.0005,  0.0311,  0.0162,  ..., -0.0112,  0.0325,  0.0091],\n",
            "        ...,\n",
            "        [ 0.0217,  0.0220,  0.0315,  ...,  0.0044, -0.0319, -0.0254],\n",
            "        [-0.0346,  0.0282,  0.0124,  ..., -0.0270,  0.0120, -0.0267],\n",
            "        [ 0.0259, -0.0260, -0.0145,  ..., -0.0209,  0.0247,  0.0039]],\n",
            "       requires_grad=True)\n",
            "Gradient tensor([[ 0.0000,  0.0000,  0.0000,  ...,  0.0000,  0.0000,  0.0000],\n",
            "        [ 0.0001,  0.0001,  0.0001,  ...,  0.0001,  0.0001,  0.0001],\n",
            "        [-0.0004, -0.0004, -0.0004,  ..., -0.0004, -0.0004, -0.0004],\n",
            "        ...,\n",
            "        [ 0.0002,  0.0002,  0.0002,  ...,  0.0002,  0.0002,  0.0002],\n",
            "        [ 0.0000,  0.0000,  0.0000,  ...,  0.0000,  0.0000,  0.0000],\n",
            "        [-0.0020, -0.0020, -0.0020,  ..., -0.0020, -0.0020, -0.0020]])\n"
          ],
          "name": "stdout"
        }
      ]
    },
    {
      "cell_type": "code",
      "metadata": {
        "id": "IaXfFq--nwCC",
        "colab_type": "code",
        "outputId": "3238f7cc-401c-4ba9-a036-e3d47c0ff29c",
        "colab": {
          "base_uri": "https://localhost:8080/",
          "height": 136
        }
      },
      "source": [
        "optimizer.step()\n",
        "print('updated weights',model[0].weight.grad)"
      ],
      "execution_count": 16,
      "outputs": [
        {
          "output_type": "stream",
          "text": [
            "updated weights tensor([[ 0.0000,  0.0000,  0.0000,  ...,  0.0000,  0.0000,  0.0000],\n",
            "        [ 0.0001,  0.0001,  0.0001,  ...,  0.0001,  0.0001,  0.0001],\n",
            "        [-0.0004, -0.0004, -0.0004,  ..., -0.0004, -0.0004, -0.0004],\n",
            "        ...,\n",
            "        [ 0.0002,  0.0002,  0.0002,  ...,  0.0002,  0.0002,  0.0002],\n",
            "        [ 0.0000,  0.0000,  0.0000,  ...,  0.0000,  0.0000,  0.0000],\n",
            "        [-0.0020, -0.0020, -0.0020,  ..., -0.0020, -0.0020, -0.0020]])\n"
          ],
          "name": "stdout"
        }
      ]
    },
    {
      "cell_type": "code",
      "metadata": {
        "id": "icPSA3OWobuo",
        "colab_type": "code",
        "outputId": "cff044f7-1f52-431a-c0a6-af27ef026195",
        "colab": {
          "base_uri": "https://localhost:8080/",
          "height": 102
        }
      },
      "source": [
        "model=nn.Sequential(nn.Linear(784,128),\n",
        "                    nn.ReLU(),\n",
        "                    nn.Linear(128,64),\n",
        "                    nn.ReLU(),\n",
        "                    nn.Linear(64,10),\n",
        "                    nn.LogSoftmax(dim=1))\n",
        "criterion=nn.NLLLoss()\n",
        "optimizer=optim.SGD(model.parameters(),lr=0.003)\n",
        "epochs=5\n",
        "for e in range(epochs):\n",
        "  running_loss=0\n",
        "  for images,labels in trainloader:\n",
        "    images=images.view(images.shape[0],-1)\n",
        "    optimizer.zero_grad()\n",
        "    output=model.forward(images)\n",
        "    loss=criterion(output,labels)\n",
        "    loss.backward()\n",
        "    optimizer.step()\n",
        "    running_loss=running_loss+loss.item()\n",
        "  else:\n",
        "    print(f\"training loss:'{running_loss/len(trainloader)}\")\n"
      ],
      "execution_count": 17,
      "outputs": [
        {
          "output_type": "stream",
          "text": [
            "training loss:'1.8739422099676721\n",
            "training loss:'0.857382290144719\n",
            "training loss:'0.5392069739700635\n",
            "training loss:'0.43658840492653694\n",
            "training loss:'0.3892283331134172\n"
          ],
          "name": "stdout"
        }
      ]
    },
    {
      "cell_type": "code",
      "metadata": {
        "id": "kSzsktV78Rwn",
        "colab_type": "code",
        "outputId": "f9af4df6-f9cd-4abc-e332-b6fe4425f078",
        "colab": {
          "base_uri": "https://localhost:8080/",
          "height": 204
        }
      },
      "source": [
        "!wget https://raw.githubusercontent.com/udacity/deep-learning-v2-pytorch/3bd7dea850e936d8cb44adda8200e4e2b5d627e3/intro-to-pytorch/helper.py"
      ],
      "execution_count": 18,
      "outputs": [
        {
          "output_type": "stream",
          "text": [
            "--2020-02-27 04:41:53--  https://raw.githubusercontent.com/udacity/deep-learning-v2-pytorch/3bd7dea850e936d8cb44adda8200e4e2b5d627e3/intro-to-pytorch/helper.py\n",
            "Resolving raw.githubusercontent.com (raw.githubusercontent.com)... 151.101.0.133, 151.101.64.133, 151.101.128.133, ...\n",
            "Connecting to raw.githubusercontent.com (raw.githubusercontent.com)|151.101.0.133|:443... connected.\n",
            "HTTP request sent, awaiting response... 200 OK\n",
            "Length: 2813 (2.7K) [text/plain]\n",
            "Saving to: ‘helper.py.2’\n",
            "\n",
            "\rhelper.py.2           0%[                    ]       0  --.-KB/s               \rhelper.py.2         100%[===================>]   2.75K  --.-KB/s    in 0s      \n",
            "\n",
            "2020-02-27 04:41:53 (38.2 MB/s) - ‘helper.py.2’ saved [2813/2813]\n",
            "\n"
          ],
          "name": "stdout"
        }
      ]
    },
    {
      "cell_type": "code",
      "metadata": {
        "id": "EaSqkbi38Xu2",
        "colab_type": "code",
        "outputId": "a33c7d11-d2bd-448f-dbbd-7a0ef35c2f51",
        "colab": {
          "base_uri": "https://localhost:8080/",
          "height": 51
        }
      },
      "source": [
        "pip install helper"
      ],
      "execution_count": 19,
      "outputs": [
        {
          "output_type": "stream",
          "text": [
            "Requirement already satisfied: helper in /usr/local/lib/python3.6/dist-packages (2.4.2)\n",
            "Requirement already satisfied: pyyaml in /usr/local/lib/python3.6/dist-packages (from helper) (3.13)\n"
          ],
          "name": "stdout"
        }
      ]
    },
    {
      "cell_type": "code",
      "metadata": {
        "id": "DwIqU46z5NUI",
        "colab_type": "code",
        "outputId": "e6fef2c7-8b0e-4aab-fb64-bae8c6acfef2",
        "colab": {
          "base_uri": "https://localhost:8080/",
          "height": 253
        }
      },
      "source": [
        "%matplotlib inline\n",
        "import helper\n",
        "images,labels=next(iter(trainloader))\n",
        "img=images[0].view(1,784)\n",
        "with torch.no_grad():\n",
        "  logits=model.forward(img)\n",
        "ps=F.softmax(logits,dim=1)\n",
        "helper.view_classify(img.view(1,28,28),ps)\n"
      ],
      "execution_count": 20,
      "outputs": [
        {
          "output_type": "display_data",
          "data": {
            "image/png": "[encoded data removed]",
            "text/plain": [
              "<Figure size 432x648 with 2 Axes>"
            ]
          },
          "metadata": {
            "tags": []
          }
        }
      ]
    }
  ]
}